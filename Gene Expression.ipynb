{
 "cells": [
  {
   "cell_type": "markdown",
   "id": "f8257076-4c1f-49a2-bc7b-ba112f4ce8e1",
   "metadata": {},
   "source": [
    "## QUESTION 1\n",
    "\n",
    "We have two matrices: an expression matrix, and a matrix about the group information of cells\t\t\t\n",
    "Write a program using your preferred programming language to calculate the mean of each gene in each group\t\t\t\n",
    "1. Group mean\t\t\t\n",
    "2. T-test DE\t\t\t\n",
    "3. Heatmap (2D clustering)\t\t\t\n",
    "4. Barplot (Bonus with error bar)\t\t\t\n",
    "5. Bonus: Plot whatever you want\t\t"
   ]
  },
  {
   "cell_type": "code",
   "execution_count": 122,
   "id": "dcaf8ccb-81e7-4f98-bcf9-a43a752350fc",
   "metadata": {},
   "outputs": [
    {
     "name": "stdout",
     "output_type": "stream",
     "text": [
      "Requirement already satisfied: seaborn in c:\\users\\shiva\\appdata\\local\\programs\\python\\python39\\lib\\site-packages (0.11.2)\n",
      "Requirement already satisfied: numpy>=1.15 in c:\\users\\shiva\\appdata\\local\\programs\\python\\python39\\lib\\site-packages (from seaborn) (1.21.0)\n",
      "Requirement already satisfied: matplotlib>=2.2 in c:\\users\\shiva\\appdata\\local\\programs\\python\\python39\\lib\\site-packages (from seaborn) (3.5.1)\n",
      "Requirement already satisfied: scipy>=1.0 in c:\\users\\shiva\\appdata\\local\\programs\\python\\python39\\lib\\site-packages (from seaborn) (1.7.0)\n",
      "Requirement already satisfied: pandas>=0.23 in c:\\users\\shiva\\appdata\\local\\programs\\python\\python39\\lib\\site-packages (from seaborn) (1.3.5)\n",
      "Requirement already satisfied: python-dateutil>=2.7 in c:\\users\\shiva\\appdata\\local\\programs\\python\\python39\\lib\\site-packages (from matplotlib>=2.2->seaborn) (2.8.2)\n",
      "Requirement already satisfied: cycler>=0.10 in c:\\users\\shiva\\appdata\\local\\programs\\python\\python39\\lib\\site-packages (from matplotlib>=2.2->seaborn) (0.11.0)\n",
      "Requirement already satisfied: pillow>=6.2.0 in c:\\users\\shiva\\appdata\\local\\programs\\python\\python39\\lib\\site-packages (from matplotlib>=2.2->seaborn) (9.0.0)\n",
      "Requirement already satisfied: packaging>=20.0 in c:\\users\\shiva\\appdata\\local\\programs\\python\\python39\\lib\\site-packages (from matplotlib>=2.2->seaborn) (21.3)\n",
      "Requirement already satisfied: fonttools>=4.22.0 in c:\\users\\shiva\\appdata\\local\\programs\\python\\python39\\lib\\site-packages (from matplotlib>=2.2->seaborn) (4.28.5)\n",
      "Requirement already satisfied: pyparsing>=2.2.1 in c:\\users\\shiva\\appdata\\local\\programs\\python\\python39\\lib\\site-packages (from matplotlib>=2.2->seaborn) (3.0.6)\n",
      "Requirement already satisfied: kiwisolver>=1.0.1 in c:\\users\\shiva\\appdata\\local\\programs\\python\\python39\\lib\\site-packages (from matplotlib>=2.2->seaborn) (1.3.2)\n",
      "Requirement already satisfied: pytz>=2017.3 in c:\\users\\shiva\\appdata\\local\\programs\\python\\python39\\lib\\site-packages (from pandas>=0.23->seaborn) (2021.3)\n",
      "Requirement already satisfied: six>=1.5 in c:\\users\\shiva\\appdata\\local\\programs\\python\\python39\\lib\\site-packages (from python-dateutil>=2.7->matplotlib>=2.2->seaborn) (1.16.0)\n",
      "Note: you may need to restart the kernel to use updated packages.\n"
     ]
    },
    {
     "name": "stderr",
     "output_type": "stream",
     "text": [
      "WARNING: You are using pip version 21.1.1; however, version 21.3.1 is available.\n",
      "You should consider upgrading via the 'c:\\users\\shiva\\appdata\\local\\programs\\python\\python39\\python.exe -m pip install --upgrade pip' command.\n"
     ]
    }
   ],
   "source": [
    "%pip install seaborn"
   ]
  },
  {
   "cell_type": "code",
   "execution_count": 123,
   "id": "ddb04ced",
   "metadata": {},
   "outputs": [
    {
     "data": {
      "text/plain": [
       "(10, 6)"
      ]
     },
     "execution_count": 123,
     "metadata": {},
     "output_type": "execute_result"
    }
   ],
   "source": [
    "import pandas as pd\n",
    "\n",
    "mat=pd.read_csv('Data.csv', index_col=0)\n",
    "mat.shape"
   ]
  },
  {
   "cell_type": "code",
   "execution_count": 124,
   "id": "f3373331",
   "metadata": {},
   "outputs": [
    {
     "data": {
      "text/html": [
       "<div>\n",
       "<style scoped>\n",
       "    .dataframe tbody tr th:only-of-type {\n",
       "        vertical-align: middle;\n",
       "    }\n",
       "\n",
       "    .dataframe tbody tr th {\n",
       "        vertical-align: top;\n",
       "    }\n",
       "\n",
       "    .dataframe thead th {\n",
       "        text-align: right;\n",
       "    }\n",
       "</style>\n",
       "<table border=\"1\" class=\"dataframe\">\n",
       "  <thead>\n",
       "    <tr style=\"text-align: right;\">\n",
       "      <th></th>\n",
       "      <th>Cell1</th>\n",
       "      <th>Cell2</th>\n",
       "      <th>Cell3</th>\n",
       "      <th>Cell4</th>\n",
       "      <th>Cell5</th>\n",
       "      <th>Cell6</th>\n",
       "    </tr>\n",
       "    <tr>\n",
       "      <th>Name</th>\n",
       "      <th></th>\n",
       "      <th></th>\n",
       "      <th></th>\n",
       "      <th></th>\n",
       "      <th></th>\n",
       "      <th></th>\n",
       "    </tr>\n",
       "  </thead>\n",
       "  <tbody>\n",
       "    <tr>\n",
       "      <th>GeneA</th>\n",
       "      <td>3.710701</td>\n",
       "      <td>3.423022</td>\n",
       "      <td>24.012434</td>\n",
       "      <td>0.196969</td>\n",
       "      <td>0.000000</td>\n",
       "      <td>0.070232</td>\n",
       "    </tr>\n",
       "    <tr>\n",
       "      <th>GeneB</th>\n",
       "      <td>6.157846</td>\n",
       "      <td>3.521709</td>\n",
       "      <td>11.040904</td>\n",
       "      <td>1.864381</td>\n",
       "      <td>0.856896</td>\n",
       "      <td>1.173653</td>\n",
       "    </tr>\n",
       "    <tr>\n",
       "      <th>GeneC</th>\n",
       "      <td>10.123089</td>\n",
       "      <td>6.693262</td>\n",
       "      <td>8.929486</td>\n",
       "      <td>4.264959</td>\n",
       "      <td>3.809895</td>\n",
       "      <td>4.503559</td>\n",
       "    </tr>\n",
       "    <tr>\n",
       "      <th>GeneD</th>\n",
       "      <td>1.733950</td>\n",
       "      <td>1.130589</td>\n",
       "      <td>3.086674</td>\n",
       "      <td>0.680610</td>\n",
       "      <td>0.128341</td>\n",
       "      <td>0.123868</td>\n",
       "    </tr>\n",
       "    <tr>\n",
       "      <th>GeneE</th>\n",
       "      <td>3.106349</td>\n",
       "      <td>2.698788</td>\n",
       "      <td>3.743998</td>\n",
       "      <td>0.796102</td>\n",
       "      <td>0.772676</td>\n",
       "      <td>1.627380</td>\n",
       "    </tr>\n",
       "  </tbody>\n",
       "</table>\n",
       "</div>"
      ],
      "text/plain": [
       "           Cell1     Cell2      Cell3     Cell4     Cell5     Cell6\n",
       "Name                                                               \n",
       "GeneA   3.710701  3.423022  24.012434  0.196969  0.000000  0.070232\n",
       "GeneB   6.157846  3.521709  11.040904  1.864381  0.856896  1.173653\n",
       "GeneC  10.123089  6.693262   8.929486  4.264959  3.809895  4.503559\n",
       "GeneD   1.733950  1.130589   3.086674  0.680610  0.128341  0.123868\n",
       "GeneE   3.106349  2.698788   3.743998  0.796102  0.772676  1.627380"
      ]
     },
     "execution_count": 124,
     "metadata": {},
     "output_type": "execute_result"
    }
   ],
   "source": [
    "mat.head()"
   ]
  },
  {
   "cell_type": "code",
   "execution_count": 125,
   "id": "6175ade2",
   "metadata": {},
   "outputs": [
    {
     "data": {
      "text/plain": [
       "Name\n",
       "GeneA    5.235560\n",
       "GeneB    4.102565\n",
       "GeneC    6.387375\n",
       "GeneD    1.147339\n",
       "GeneE    2.124216\n",
       "GeneF    3.019405\n",
       "GeneG    4.330656\n",
       "GeneH    3.086185\n",
       "GeneI    9.977445\n",
       "GeneJ    5.948201\n",
       "dtype: float64"
      ]
     },
     "execution_count": 125,
     "metadata": {},
     "output_type": "execute_result"
    }
   ],
   "source": [
    "mat.mean(axis=1)"
   ]
  },
  {
   "cell_type": "markdown",
   "id": "8e89617e-d3c9-464d-98fb-9f7cf944f7fa",
   "metadata": {},
   "source": [
    "### 1. GROUP MEAN"
   ]
  },
  {
   "cell_type": "markdown",
   "id": "65685705-0ee5-4876-a939-fca474a5aee3",
   "metadata": {},
   "source": [
    "Cells 1, 5 and 6 belong to Group A"
   ]
  },
  {
   "cell_type": "code",
   "execution_count": 126,
   "id": "5fc27655",
   "metadata": {},
   "outputs": [
    {
     "data": {
      "text/html": [
       "<div>\n",
       "<style scoped>\n",
       "    .dataframe tbody tr th:only-of-type {\n",
       "        vertical-align: middle;\n",
       "    }\n",
       "\n",
       "    .dataframe tbody tr th {\n",
       "        vertical-align: top;\n",
       "    }\n",
       "\n",
       "    .dataframe thead th {\n",
       "        text-align: right;\n",
       "    }\n",
       "</style>\n",
       "<table border=\"1\" class=\"dataframe\">\n",
       "  <thead>\n",
       "    <tr style=\"text-align: right;\">\n",
       "      <th></th>\n",
       "      <th>Cell1</th>\n",
       "      <th>Cell5</th>\n",
       "      <th>Cell6</th>\n",
       "    </tr>\n",
       "    <tr>\n",
       "      <th>Name</th>\n",
       "      <th></th>\n",
       "      <th></th>\n",
       "      <th></th>\n",
       "    </tr>\n",
       "  </thead>\n",
       "  <tbody>\n",
       "    <tr>\n",
       "      <th>GeneA</th>\n",
       "      <td>3.710701</td>\n",
       "      <td>0.000000</td>\n",
       "      <td>0.070232</td>\n",
       "    </tr>\n",
       "    <tr>\n",
       "      <th>GeneB</th>\n",
       "      <td>6.157846</td>\n",
       "      <td>0.856896</td>\n",
       "      <td>1.173653</td>\n",
       "    </tr>\n",
       "    <tr>\n",
       "      <th>GeneC</th>\n",
       "      <td>10.123089</td>\n",
       "      <td>3.809895</td>\n",
       "      <td>4.503559</td>\n",
       "    </tr>\n",
       "    <tr>\n",
       "      <th>GeneD</th>\n",
       "      <td>1.733950</td>\n",
       "      <td>0.128341</td>\n",
       "      <td>0.123868</td>\n",
       "    </tr>\n",
       "    <tr>\n",
       "      <th>GeneE</th>\n",
       "      <td>3.106349</td>\n",
       "      <td>0.772676</td>\n",
       "      <td>1.627380</td>\n",
       "    </tr>\n",
       "    <tr>\n",
       "      <th>GeneF</th>\n",
       "      <td>2.649048</td>\n",
       "      <td>0.644167</td>\n",
       "      <td>0.407211</td>\n",
       "    </tr>\n",
       "    <tr>\n",
       "      <th>GeneG</th>\n",
       "      <td>6.671137</td>\n",
       "      <td>2.980256</td>\n",
       "      <td>3.420434</td>\n",
       "    </tr>\n",
       "    <tr>\n",
       "      <th>GeneH</th>\n",
       "      <td>4.797332</td>\n",
       "      <td>2.334520</td>\n",
       "      <td>1.814361</td>\n",
       "    </tr>\n",
       "    <tr>\n",
       "      <th>GeneI</th>\n",
       "      <td>17.660772</td>\n",
       "      <td>1.356109</td>\n",
       "      <td>6.319940</td>\n",
       "    </tr>\n",
       "    <tr>\n",
       "      <th>GeneJ</th>\n",
       "      <td>8.812871</td>\n",
       "      <td>3.498229</td>\n",
       "      <td>3.770668</td>\n",
       "    </tr>\n",
       "  </tbody>\n",
       "</table>\n",
       "</div>"
      ],
      "text/plain": [
       "           Cell1     Cell5     Cell6\n",
       "Name                                \n",
       "GeneA   3.710701  0.000000  0.070232\n",
       "GeneB   6.157846  0.856896  1.173653\n",
       "GeneC  10.123089  3.809895  4.503559\n",
       "GeneD   1.733950  0.128341  0.123868\n",
       "GeneE   3.106349  0.772676  1.627380\n",
       "GeneF   2.649048  0.644167  0.407211\n",
       "GeneG   6.671137  2.980256  3.420434\n",
       "GeneH   4.797332  2.334520  1.814361\n",
       "GeneI  17.660772  1.356109  6.319940\n",
       "GeneJ   8.812871  3.498229  3.770668"
      ]
     },
     "execution_count": 126,
     "metadata": {},
     "output_type": "execute_result"
    }
   ],
   "source": [
    "groupA=mat[['Cell1','Cell5','Cell6']]\n",
    "groupA"
   ]
  },
  {
   "cell_type": "markdown",
   "id": "6ecec087-a999-454e-9293-ab5c871ff221",
   "metadata": {},
   "source": [
    "Cells 2, 3 and 4 belong to Group B"
   ]
  },
  {
   "cell_type": "code",
   "execution_count": 127,
   "id": "a00f7d40",
   "metadata": {},
   "outputs": [
    {
     "data": {
      "text/html": [
       "<div>\n",
       "<style scoped>\n",
       "    .dataframe tbody tr th:only-of-type {\n",
       "        vertical-align: middle;\n",
       "    }\n",
       "\n",
       "    .dataframe tbody tr th {\n",
       "        vertical-align: top;\n",
       "    }\n",
       "\n",
       "    .dataframe thead th {\n",
       "        text-align: right;\n",
       "    }\n",
       "</style>\n",
       "<table border=\"1\" class=\"dataframe\">\n",
       "  <thead>\n",
       "    <tr style=\"text-align: right;\">\n",
       "      <th></th>\n",
       "      <th>Cell2</th>\n",
       "      <th>Cell3</th>\n",
       "      <th>Cell4</th>\n",
       "    </tr>\n",
       "    <tr>\n",
       "      <th>Name</th>\n",
       "      <th></th>\n",
       "      <th></th>\n",
       "      <th></th>\n",
       "    </tr>\n",
       "  </thead>\n",
       "  <tbody>\n",
       "    <tr>\n",
       "      <th>GeneA</th>\n",
       "      <td>3.423022</td>\n",
       "      <td>24.012434</td>\n",
       "      <td>0.196969</td>\n",
       "    </tr>\n",
       "    <tr>\n",
       "      <th>GeneB</th>\n",
       "      <td>3.521709</td>\n",
       "      <td>11.040904</td>\n",
       "      <td>1.864381</td>\n",
       "    </tr>\n",
       "    <tr>\n",
       "      <th>GeneC</th>\n",
       "      <td>6.693262</td>\n",
       "      <td>8.929486</td>\n",
       "      <td>4.264959</td>\n",
       "    </tr>\n",
       "    <tr>\n",
       "      <th>GeneD</th>\n",
       "      <td>1.130589</td>\n",
       "      <td>3.086674</td>\n",
       "      <td>0.680610</td>\n",
       "    </tr>\n",
       "    <tr>\n",
       "      <th>GeneE</th>\n",
       "      <td>2.698788</td>\n",
       "      <td>3.743998</td>\n",
       "      <td>0.796102</td>\n",
       "    </tr>\n",
       "    <tr>\n",
       "      <th>GeneF</th>\n",
       "      <td>2.671041</td>\n",
       "      <td>11.174323</td>\n",
       "      <td>0.570643</td>\n",
       "    </tr>\n",
       "    <tr>\n",
       "      <th>GeneG</th>\n",
       "      <td>5.213023</td>\n",
       "      <td>5.435889</td>\n",
       "      <td>2.263195</td>\n",
       "    </tr>\n",
       "    <tr>\n",
       "      <th>GeneH</th>\n",
       "      <td>3.091814</td>\n",
       "      <td>4.345625</td>\n",
       "      <td>2.133458</td>\n",
       "    </tr>\n",
       "    <tr>\n",
       "      <th>GeneI</th>\n",
       "      <td>13.809408</td>\n",
       "      <td>18.414341</td>\n",
       "      <td>2.304101</td>\n",
       "    </tr>\n",
       "    <tr>\n",
       "      <th>GeneJ</th>\n",
       "      <td>6.926112</td>\n",
       "      <td>8.301666</td>\n",
       "      <td>4.379664</td>\n",
       "    </tr>\n",
       "  </tbody>\n",
       "</table>\n",
       "</div>"
      ],
      "text/plain": [
       "           Cell2      Cell3     Cell4\n",
       "Name                                 \n",
       "GeneA   3.423022  24.012434  0.196969\n",
       "GeneB   3.521709  11.040904  1.864381\n",
       "GeneC   6.693262   8.929486  4.264959\n",
       "GeneD   1.130589   3.086674  0.680610\n",
       "GeneE   2.698788   3.743998  0.796102\n",
       "GeneF   2.671041  11.174323  0.570643\n",
       "GeneG   5.213023   5.435889  2.263195\n",
       "GeneH   3.091814   4.345625  2.133458\n",
       "GeneI  13.809408  18.414341  2.304101\n",
       "GeneJ   6.926112   8.301666  4.379664"
      ]
     },
     "execution_count": 127,
     "metadata": {},
     "output_type": "execute_result"
    }
   ],
   "source": [
    "groupB=mat[['Cell2','Cell3','Cell4']]\n",
    "groupB"
   ]
  },
  {
   "cell_type": "code",
   "execution_count": 128,
   "id": "be74c259",
   "metadata": {},
   "outputs": [
    {
     "name": "stdout",
     "output_type": "stream",
     "text": [
      "\u001b[1mMEAN GENE EXPRESSION LEVELS FOR GROUP A\n"
     ]
    },
    {
     "data": {
      "text/plain": [
       "Name\n",
       "GeneA    1.260311\n",
       "GeneB    2.729465\n",
       "GeneC    6.145514\n",
       "GeneD    0.662053\n",
       "GeneE    1.835469\n",
       "GeneF    1.233475\n",
       "GeneG    4.357276\n",
       "GeneH    2.982071\n",
       "GeneI    8.445607\n",
       "GeneJ    5.360589\n",
       "dtype: float64"
      ]
     },
     "execution_count": 128,
     "metadata": {},
     "output_type": "execute_result"
    }
   ],
   "source": [
    "A=groupA.mean(axis=1)\n",
    "print('\\033[1m'+\"MEAN GENE EXPRESSION LEVELS FOR GROUP A\")\n",
    "A"
   ]
  },
  {
   "cell_type": "code",
   "execution_count": 129,
   "id": "57ec9ba6",
   "metadata": {},
   "outputs": [
    {
     "name": "stdout",
     "output_type": "stream",
     "text": [
      "\u001b[1mMEAN GENE EXPRESSION LEVELS FOR GROUP B\n"
     ]
    },
    {
     "data": {
      "text/plain": [
       "Name\n",
       "GeneA     9.210809\n",
       "GeneB     5.475665\n",
       "GeneC     6.629236\n",
       "GeneD     1.632624\n",
       "GeneE     2.412962\n",
       "GeneF     4.805336\n",
       "GeneG     4.304036\n",
       "GeneH     3.190299\n",
       "GeneI    11.509283\n",
       "GeneJ     6.535814\n",
       "dtype: float64"
      ]
     },
     "execution_count": 129,
     "metadata": {},
     "output_type": "execute_result"
    }
   ],
   "source": [
    "B=groupB.mean(axis=1)\n",
    "print('\\033[1m'+\"MEAN GENE EXPRESSION LEVELS FOR GROUP B\")\n",
    "B"
   ]
  },
  {
   "cell_type": "code",
   "execution_count": 130,
   "id": "e29b49ba",
   "metadata": {},
   "outputs": [
    {
     "data": {
      "text/html": [
       "<div>\n",
       "<style scoped>\n",
       "    .dataframe tbody tr th:only-of-type {\n",
       "        vertical-align: middle;\n",
       "    }\n",
       "\n",
       "    .dataframe tbody tr th {\n",
       "        vertical-align: top;\n",
       "    }\n",
       "\n",
       "    .dataframe thead th {\n",
       "        text-align: right;\n",
       "    }\n",
       "</style>\n",
       "<table border=\"1\" class=\"dataframe\">\n",
       "  <thead>\n",
       "    <tr style=\"text-align: right;\">\n",
       "      <th></th>\n",
       "      <th>GroupA</th>\n",
       "      <th>GroupB</th>\n",
       "    </tr>\n",
       "    <tr>\n",
       "      <th>Name</th>\n",
       "      <th></th>\n",
       "      <th></th>\n",
       "    </tr>\n",
       "  </thead>\n",
       "  <tbody>\n",
       "    <tr>\n",
       "      <th>GeneA</th>\n",
       "      <td>1.260311</td>\n",
       "      <td>9.210809</td>\n",
       "    </tr>\n",
       "    <tr>\n",
       "      <th>GeneB</th>\n",
       "      <td>2.729465</td>\n",
       "      <td>5.475665</td>\n",
       "    </tr>\n",
       "    <tr>\n",
       "      <th>GeneC</th>\n",
       "      <td>6.145514</td>\n",
       "      <td>6.629236</td>\n",
       "    </tr>\n",
       "    <tr>\n",
       "      <th>GeneD</th>\n",
       "      <td>0.662053</td>\n",
       "      <td>1.632624</td>\n",
       "    </tr>\n",
       "    <tr>\n",
       "      <th>GeneE</th>\n",
       "      <td>1.835469</td>\n",
       "      <td>2.412962</td>\n",
       "    </tr>\n",
       "    <tr>\n",
       "      <th>GeneF</th>\n",
       "      <td>1.233475</td>\n",
       "      <td>4.805336</td>\n",
       "    </tr>\n",
       "    <tr>\n",
       "      <th>GeneG</th>\n",
       "      <td>4.357276</td>\n",
       "      <td>4.304036</td>\n",
       "    </tr>\n",
       "    <tr>\n",
       "      <th>GeneH</th>\n",
       "      <td>2.982071</td>\n",
       "      <td>3.190299</td>\n",
       "    </tr>\n",
       "    <tr>\n",
       "      <th>GeneI</th>\n",
       "      <td>8.445607</td>\n",
       "      <td>11.509283</td>\n",
       "    </tr>\n",
       "    <tr>\n",
       "      <th>GeneJ</th>\n",
       "      <td>5.360589</td>\n",
       "      <td>6.535814</td>\n",
       "    </tr>\n",
       "  </tbody>\n",
       "</table>\n",
       "</div>"
      ],
      "text/plain": [
       "         GroupA     GroupB\n",
       "Name                      \n",
       "GeneA  1.260311   9.210809\n",
       "GeneB  2.729465   5.475665\n",
       "GeneC  6.145514   6.629236\n",
       "GeneD  0.662053   1.632624\n",
       "GeneE  1.835469   2.412962\n",
       "GeneF  1.233475   4.805336\n",
       "GeneG  4.357276   4.304036\n",
       "GeneH  2.982071   3.190299\n",
       "GeneI  8.445607  11.509283\n",
       "GeneJ  5.360589   6.535814"
      ]
     },
     "execution_count": 130,
     "metadata": {},
     "output_type": "execute_result"
    }
   ],
   "source": [
    "groups=[A,B]\n",
    "AB=pd.concat(groups, axis=1, keys=['GroupA','GroupB'])\n",
    "AB"
   ]
  },
  {
   "cell_type": "markdown",
   "id": "9b0d548f-be8b-4df7-b831-43009f748a07",
   "metadata": {},
   "source": [
    "### 2. T-TEST"
   ]
  },
  {
   "cell_type": "code",
   "execution_count": 131,
   "id": "9eff42de",
   "metadata": {},
   "outputs": [
    {
     "name": "stdout",
     "output_type": "stream",
     "text": [
      "\u001b[1mT-TEST STATISTIC IS AS FOLLOWS:\n"
     ]
    },
    {
     "data": {
      "text/plain": [
       "Ttest_indResult(statistic=-1.6509440539425169, pvalue=0.11608896319564381)"
      ]
     },
     "execution_count": 131,
     "metadata": {},
     "output_type": "execute_result"
    }
   ],
   "source": [
    "from scipy.stats import ttest_ind\n",
    "print('\\033[1m'+\"T-TEST STATISTIC IS AS FOLLOWS:\")\n",
    "ttest_ind(A,B)"
   ]
  },
  {
   "cell_type": "markdown",
   "id": "964e6403-3b33-4485-b743-5c9aab395c5a",
   "metadata": {},
   "source": [
    "### 3. HEATMAP (2D-CLUSTERING)"
   ]
  },
  {
   "cell_type": "code",
   "execution_count": 132,
   "id": "01303022",
   "metadata": {},
   "outputs": [
    {
     "data": {
      "text/plain": [
       "Text(697.1249999999999, 0.5, 'Gene')"
      ]
     },
     "execution_count": 132,
     "metadata": {},
     "output_type": "execute_result"
    },
    {
     "data": {
      "image/png": "[encoded data removed]",
      "text/plain": [
       "<Figure size 720x504 with 4 Axes>"
      ]
     },
     "metadata": {},
     "output_type": "display_data"
    }
   ],
   "source": [
    "import seaborn as sns\n",
    "import matplotlib.pylab as plt\n",
    "HM=sns.clustermap(mat,figsize=(10, 7))\n",
    "HM.fig.suptitle('Gene Expression Heatmap', fontsize=18) \n",
    "HM.ax_heatmap.set_xlabel(\"Sample\", fontsize=18)\n",
    "HM.ax_heatmap.set_ylabel(\"Gene\", fontsize=18)"
   ]
  },
  {
   "cell_type": "markdown",
   "id": "5166f201-0b68-4be2-86b1-c79790b3416d",
   "metadata": {},
   "source": [
    "### 4. BAR PLOT (WITH ERROR BAR)"
   ]
  },
  {
   "cell_type": "code",
   "execution_count": 133,
   "id": "82b9282d",
   "metadata": {},
   "outputs": [
    {
     "data": {
      "text/plain": [
       "Text(0, 0.5, 'Mean Expression')"
      ]
     },
     "execution_count": 133,
     "metadata": {},
     "output_type": "execute_result"
    },
    {
     "data": {
      "image/png": "[encoded data removed]",
      "text/plain": [
       "<Figure size 720x576 with 1 Axes>"
      ]
     },
     "metadata": {},
     "output_type": "display_data"
    }
   ],
   "source": [
    "sns.set(rc = {'figure.figsize':(10,8)})\n",
    "BP = sns.barplot(data=AB, capsize=.2)\n",
    "BP.set_title(\"Group-wise Mean Gene Expression Levels\", fontsize=20)\n",
    "BP.set_xlabel(\"Gene\", fontsize=18)\n",
    "BP.set_ylabel(\"Mean Expression\", fontsize=18)"
   ]
  },
  {
   "cell_type": "markdown",
   "id": "c2c77a29-931c-46d1-badc-065643f126ce",
   "metadata": {},
   "source": [
    "### 5. SCATTER PLOT"
   ]
  },
  {
   "cell_type": "code",
   "execution_count": 134,
   "id": "31328fc4-4ef7-4a15-854d-5b64596b4d2a",
   "metadata": {},
   "outputs": [
    {
     "data": {
      "text/plain": [
       "Text(0, 0.5, 'Mean Expression')"
      ]
     },
     "execution_count": 134,
     "metadata": {},
     "output_type": "execute_result"
    },
    {
     "data": {
      "image/png": "[encoded data removed]",
      "text/plain": [
       "<Figure size 720x576 with 1 Axes>"
      ]
     },
     "metadata": {},
     "output_type": "display_data"
    }
   ],
   "source": [
    "sns.set(rc = {'figure.figsize':(10,8)})\n",
    "SP=sns.scatterplot(data=AB)\n",
    "plt.setp(SP.get_legend().get_texts(), fontsize='15') \n",
    "SP.set_title(\"Group-wise Mean Gene Expression Levels\", fontsize=20)\n",
    "SP.set_xlabel(\"Gene\", fontsize=18)\n",
    "SP.set_ylabel(\"Mean Expression\", fontsize=18)"
   ]
  }
 ],
 "metadata": {
  "kernelspec": {
   "display_name": "Python 3 (ipykernel)",
   "language": "python",
   "name": "python3"
  },
  "language_info": {
   "codemirror_mode": {
    "name": "ipython",
    "version": 3
   },
   "file_extension": ".py",
   "mimetype": "text/x-python",
   "name": "python",
   "nbconvert_exporter": "python",
   "pygments_lexer": "ipython3",
   "version": "3.9.5"
  }
 },
 "nbformat": 4,
 "nbformat_minor": 5
}
